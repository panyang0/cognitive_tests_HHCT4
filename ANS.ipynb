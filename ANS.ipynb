{
 "cells": [
  {
   "cell_type": "code",
   "execution_count": 16,
   "id": "0fb86d68-bc5a-4387-ae91-23252bda7540",
   "metadata": {},
   "outputs": [],
   "source": [
    "from IPython.display import display, HTML, Image, clear_output\n",
    "import time\n",
    "import random\n",
    "from inputimeout import inputimeout "
   ]
  },
  {
   "cell_type": "code",
   "execution_count": null,
   "id": "4ab9cc03-2e68-4ec1-abe9-eb36e1ace030",
   "metadata": {},
   "outputs": [],
   "source": []
  },
  {
   "cell_type": "code",
   "execution_count": 2,
   "id": "e920b7a7-a600-46ae-9eb1-f22aaad01acf",
   "metadata": {},
   "outputs": [],
   "source": [
    "#4:3 7:6 9:8 10:9"
   ]
  },
  {
   "cell_type": "code",
   "execution_count": 8,
   "id": "60985e65-aa5e-4583-9281-024e9a34f001",
   "metadata": {},
   "outputs": [],
   "source": [
    "def run_ANS_single(img_file,right_answer):\n",
    "    \n",
    "    print(\"Choose the side with more dots\")\n",
    "    time.sleep(1)\n",
    "\n",
    "    pic=Image(img_file,width=900)\n",
    "    \n",
    "    display(pic)\n",
    "    time.sleep(0.75)\n",
    "    clear_output(wait=False)\n",
    "    ans = input(\"Enter l for left and r for right:\")\n",
    "    #ans = inputimeout(prompt='Enter l for left and r for right:', timeout=9)\n",
    "    \n",
    "    \n",
    "    if ans.lower()==right_answer.lower():\n",
    "        #print(\"Well done!\")\n",
    "        score = 1\n",
    "    else:\n",
    "    #    print(f\"Sorry the answer was {right_answer}\")\n",
    "        score = 0\n",
    "    time.sleep(1.5)\n",
    "    clear_output(wait=False)\n",
    "    return score"
   ]
  },
  {
   "cell_type": "code",
   "execution_count": 9,
   "id": "88c301b5-87d0-47b1-999c-7649e3676378",
   "metadata": {},
   "outputs": [
    {
     "data": {
      "text/plain": [
       "1"
      ]
     },
     "execution_count": 9,
     "metadata": {},
     "output_type": "execute_result"
    }
   ],
   "source": [
    "run_ANS_single('3_4.png','r')"
   ]
  },
  {
   "cell_type": "code",
   "execution_count": null,
   "id": "74e4a4b4-f927-44b1-bbd1-16326a62a91a",
   "metadata": {},
   "outputs": [],
   "source": [
    "def run_ANS_all():\n",
    "    files = [\"3_4.png\", \"4_3.png\",\"7_6.png\", \"8_9.png\",\"9_10.png\"]\n",
    "    answers = [\"r\", \"l\", \"l\", \"r\",\"r\"]\n",
    "\n",
    "    print(\"Welcome to the ANS test\")\n",
    "    time.sleep(1)\n",
    "    \n",
    "    total = 0\n",
    "    randomlist = random.sample(range(len(files)), len(files))\n",
    "    print(randomlist)\n",
    "    for i in randomlist:\n",
    "        \n",
    "        score = run_ANS_single(files[i], answers[i])\n",
    "        total += score\n",
    "    print(\"You scored\", total)\n",
    "    return total\n",
    "run_ANS_all()"
   ]
  },
  {
   "cell_type": "raw",
   "id": "5be48ba7-8c16-4150-ac5f-5beddeec8de4",
   "metadata": {},
   "source": [
    "randomlist = random.sample(range(10, 30), 5)\n",
    "print(randomlist)"
   ]
  },
  {
   "cell_type": "code",
   "execution_count": 7,
   "id": "15477b1e-50a0-4f7b-9cce-55f64be0b15a",
   "metadata": {},
   "outputs": [
    {
     "name": "stdout",
     "output_type": "stream",
     "text": [
      "Name your best friend:"
     ]
    }
   ],
   "source": []
  },
  {
   "cell_type": "code",
   "execution_count": null,
   "id": "da5bc4cc-ace3-45eb-81e6-880422627024",
   "metadata": {},
   "outputs": [],
   "source": []
  }
 ],
 "metadata": {
  "kernelspec": {
   "display_name": "Python 3 (ipykernel)",
   "language": "python",
   "name": "python3"
  },
  "language_info": {
   "codemirror_mode": {
    "name": "ipython",
    "version": 3
   },
   "file_extension": ".py",
   "mimetype": "text/x-python",
   "name": "python",
   "nbconvert_exporter": "python",
   "pygments_lexer": "ipython3",
   "version": "3.10.10"
  }
 },
 "nbformat": 4,
 "nbformat_minor": 5
}
